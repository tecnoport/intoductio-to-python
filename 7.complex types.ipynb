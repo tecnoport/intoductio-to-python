{
 "cells": [
  {
   "cell_type": "markdown",
   "metadata": {},
   "source": [
    "# Complex type examples"
   ]
  },
  {
   "cell_type": "code",
   "execution_count": 3,
   "metadata": {},
   "outputs": [],
   "source": [
    "a=3+5j\n",
    "b=5j\n",
    "c=-5j\n",
    "d=complex(10)\n",
    "e=complex(10.5)\n",
    "f=complex('10')\n",
    "g=complex('10.5')\n",
    "h=complex(True)\n",
    "i=complex(False)\n",
    "j=complex(True,False)\n",
    "k=complex(10,-2)"
   ]
  },
  {
   "cell_type": "code",
   "execution_count": 4,
   "metadata": {},
   "outputs": [
    {
     "name": "stdout",
     "output_type": "stream",
     "text": [
      "<class 'complex'>         (3+5j)\n",
      "<class 'complex'>         5j\n",
      "<class 'complex'>         (-0-5j)\n",
      "<class 'complex'>         (10+0j)\n",
      "<class 'complex'>         (10.5+0j)\n",
      "<class 'complex'>         (10+0j)\n",
      "<class 'complex'>         (10.5+0j)\n",
      "<class 'complex'>         (1+0j)\n",
      "<class 'complex'>         0j\n",
      "<class 'complex'>         (1+0j)\n",
      "<class 'complex'>         (10-2j)\n"
     ]
    }
   ],
   "source": [
    "print(type(a),'       ',a)\n",
    "print(type(b),'       ',b)\n",
    "print(type(c),'       ',c)\n",
    "print(type(d),'       ',d)\n",
    "print(type(e),'       ',e)\n",
    "print(type(f),'       ',f)\n",
    "print(type(g),'       ',g)\n",
    "print(type(h),'       ',h)\n",
    "print(type(i),'       ',i)\n",
    "print(type(j),'       ',j)\n",
    "print(type(k),'       ',k)"
   ]
  },
  {
   "cell_type": "code",
   "execution_count": null,
   "metadata": {},
   "outputs": [],
   "source": []
  }
 ],
 "metadata": {
  "kernelspec": {
   "display_name": "Python 3",
   "language": "python",
   "name": "python3"
  },
  "language_info": {
   "codemirror_mode": {
    "name": "ipython",
    "version": 3
   },
   "file_extension": ".py",
   "mimetype": "text/x-python",
   "name": "python",
   "nbconvert_exporter": "python",
   "pygments_lexer": "ipython3",
   "version": "3.7.0"
  }
 },
 "nbformat": 4,
 "nbformat_minor": 2
}
