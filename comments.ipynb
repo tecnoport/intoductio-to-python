{
 "cells": [
  {
   "cell_type": "code",
   "execution_count": 9,
   "metadata": {},
   "outputs": [
    {
     "name": "stdout",
     "output_type": "stream",
     "text": [
      "Hello world\n",
      "python\n",
      "coding\n"
     ]
    }
   ],
   "source": [
    "#This is comment\n",
    "\"\"\"In computer software, a general-purpose \n",
    "programming language is a programming language\n",
    " designed to be used for writing software in the widest \n",
    "variety of application domains(a general-purpose language).\n",
    " A general-purpose programming language has this\n",
    " status because it does not include language constructs \n",
    "designed to be used within a specific application\n",
    " domain.\"\"\"\n",
    "\n",
    "print(\"Hello world\")\n",
    "print(\"python\")\n",
    "print(\"coding\")"
   ]
  },
  {
   "cell_type": "code",
   "execution_count": null,
   "metadata": {},
   "outputs": [],
   "source": []
  }
 ],
 "metadata": {
  "kernelspec": {
   "display_name": "Python 3",
   "language": "python",
   "name": "python3"
  },
  "language_info": {
   "codemirror_mode": {
    "name": "ipython",
    "version": 3
   },
   "file_extension": ".py",
   "mimetype": "text/x-python",
   "name": "python",
   "nbconvert_exporter": "python",
   "pygments_lexer": "ipython3",
   "version": "3.7.0"
  }
 },
 "nbformat": 4,
 "nbformat_minor": 2
}
