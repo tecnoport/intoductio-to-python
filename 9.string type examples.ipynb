{
 "cells": [
  {
   "cell_type": "markdown",
   "metadata": {},
   "source": [
    "# string type examples"
   ]
  },
  {
   "cell_type": "code",
   "execution_count": 1,
   "metadata": {},
   "outputs": [],
   "source": [
    "a='abc'\n",
    "b='124'\n",
    "c='5.423'\n",
    "d=str(10)\n",
    "e=str(10.4)\n",
    "f=str(True)\n",
    "g=str(False)\n",
    "h=str(10+5j)\n",
    "i=\"\"\"In computer software, a general-purpose \n",
    "programming language is a programming language\n",
    " designed to be used for writing software in the widest \n",
    "variety of application domains(a general-purpose language).\n",
    " A general-purpose programming language has this\n",
    " status because it does not include language constructs \n",
    "designed to be used within a specific application\n",
    " domain.\n",
    "\"\"\""
   ]
  },
  {
   "cell_type": "code",
   "execution_count": 2,
   "metadata": {},
   "outputs": [
    {
     "name": "stdout",
     "output_type": "stream",
     "text": [
      "<class 'str'>       abc\n",
      "<class 'str'>       124\n",
      "<class 'str'>       5.423\n",
      "<class 'str'>       10\n",
      "<class 'str'>       10.4\n",
      "<class 'str'>       True\n",
      "<class 'str'>       False\n",
      "<class 'str'>       (10+5j)\n",
      "<class 'str'>       In computer software, a general-purpose \n",
      "programming language is a programming language\n",
      " designed to be used for writing software in the widest \n",
      "variety of application domains(a general-purpose language).\n",
      " A general-purpose programming language has this\n",
      " status because it does not include language constructs \n",
      "designed to be used within a specific application\n",
      " domain.\n",
      "\n"
     ]
    }
   ],
   "source": [
    "print(type(a),'     ',a)\n",
    "print(type(b),'     ',b)\n",
    "print(type(c),'     ',c)\n",
    "print(type(d),'     ',d)\n",
    "print(type(e),'     ',e)\n",
    "print(type(f),'     ',f)\n",
    "print(type(g),'     ',g)\n",
    "print(type(h),'     ',h)\n",
    "print(type(i),'     ',i)\n"
   ]
  },
  {
   "cell_type": "code",
   "execution_count": null,
   "metadata": {},
   "outputs": [],
   "source": []
  }
 ],
 "metadata": {
  "kernelspec": {
   "display_name": "Python 3",
   "language": "python",
   "name": "python3"
  },
  "language_info": {
   "codemirror_mode": {
    "name": "ipython",
    "version": 3
   },
   "file_extension": ".py",
   "mimetype": "text/x-python",
   "name": "python",
   "nbconvert_exporter": "python",
   "pygments_lexer": "ipython3",
   "version": "3.7.0"
  }
 },
 "nbformat": 4,
 "nbformat_minor": 2
}
