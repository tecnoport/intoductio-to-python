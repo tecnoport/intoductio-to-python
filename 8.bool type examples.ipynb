{
 "cells": [
  {
   "cell_type": "markdown",
   "metadata": {},
   "source": [
    "# examples of int"
   ]
  },
  {
   "cell_type": "code",
   "execution_count": null,
   "metadata": {},
   "outputs": [],
   "source": [
    "a=1\n",
    "b=6875348435248435215\n",
    "c=-34684\n",
    "d=int(6.7)\n",
    "e=int('6')\n",
    "f=int(False)\n",
    "g=int(True)"
   ]
  },
  {
   "cell_type": "code",
   "execution_count": null,
   "metadata": {},
   "outputs": [],
   "source": [
    "print(type(a))\n",
    "print(type(b))\n",
    "print(type(c))\n",
    "print(type(d))\n",
    "print(type(e))\n",
    "print(type(f))\n",
    "print(type(g))"
   ]
  },
  {
   "cell_type": "code",
   "execution_count": null,
   "metadata": {},
   "outputs": [],
   "source": [
    "print(a)\n",
    "print(b)\n",
    "print(c)\n",
    "print(d)\n",
    "print(e)\n",
    "print(f)\n",
    "print(g)"
   ]
  },
  {
   "cell_type": "markdown",
   "metadata": {},
   "source": [
    "# float examples"
   ]
  },
  {
   "cell_type": "code",
   "execution_count": 9,
   "metadata": {},
   "outputs": [],
   "source": [
    "a=1.0\n",
    "b=1.56846\n",
    "c=-3.589\n",
    "d=float(6)\n",
    "\n",
    "f=35e8\n",
    "g=-87.75e740\n",
    "h=12E5\n",
    "i=float(True)\n",
    "j=float(False)"
   ]
  },
  {
   "cell_type": "code",
   "execution_count": null,
   "metadata": {},
   "outputs": [],
   "source": [
    "print(type(a))\n",
    "print(type(b))\n",
    "print(type(c))\n",
    "print(type(d))\n",
    "print(type(e))\n",
    "print(type(f))\n",
    "print(type(g))\n",
    "print(type(h))\n",
    "print(type(i))\n",
    "print(type(j))"
   ]
  },
  {
   "cell_type": "code",
   "execution_count": 10,
   "metadata": {},
   "outputs": [
    {
     "name": "stdout",
     "output_type": "stream",
     "text": [
      "1.0\n",
      "1.56846\n",
      "-3.589\n",
      "6.0\n",
      "8.7\n",
      "3500000000.0\n",
      "-inf\n",
      "1200000.0\n",
      "1.0\n",
      "0.0\n"
     ]
    }
   ],
   "source": [
    "print(a)\n",
    "print(b)\n",
    "print(c)\n",
    "print(d)\n",
    "print(e)\n",
    "print(f)\n",
    "print(g)\n",
    "print(h)\n",
    "print(i)\n",
    "print(j)"
   ]
  },
  {
   "cell_type": "markdown",
   "metadata": {},
   "source": [
    "# complex examples"
   ]
  },
  {
   "cell_type": "code",
   "execution_count": 15,
   "metadata": {},
   "outputs": [],
   "source": [
    "a=3+5j\n",
    "b=5j\n",
    "c=-5j\n",
    "e=complex(10)\n",
    "f=complex(10.5)\n",
    "g=complex(True)\n",
    "h=complex(False)\n",
    "i=complex('10')\n",
    "j=complex('10.5')\n",
    "k=complex(10,-2)\n",
    "l=complex(True,False)"
   ]
  },
  {
   "cell_type": "code",
   "execution_count": 17,
   "metadata": {},
   "outputs": [
    {
     "name": "stdout",
     "output_type": "stream",
     "text": [
      "<class 'complex'>     (3+5j)\n",
      "<class 'complex'>     5j\n",
      "<class 'complex'>     (-0-5j)\n",
      "<class 'complex'>     (10+0j)\n",
      "<class 'complex'>     (10.5+0j)\n",
      "<class 'complex'>     (1+0j)\n",
      "<class 'complex'>     0j\n",
      "<class 'complex'>     (10+0j)\n",
      "<class 'complex'>     (10.5+0j)\n",
      "<class 'complex'>     (10-2j)\n",
      "<class 'complex'>     (1+0j)\n"
     ]
    }
   ],
   "source": [
    "print(type(a),\"   \",a)\n",
    "print(type(b),\"   \",b)\n",
    "print(type(c),\"   \",c)\n",
    "print(type(e),\"   \",e)\n",
    "print(type(f),\"   \",f)\n",
    "print(type(g),\"   \",g)\n",
    "print(type(h),\"   \",h)\n",
    "print(type(i),\"   \",i)\n",
    "print(type(j),\"   \",j)\n",
    "print(type(k),\"   \",k)\n",
    "print(type(l),\"   \",l)"
   ]
  },
  {
   "cell_type": "code",
   "execution_count": null,
   "metadata": {},
   "outputs": [],
   "source": []
  },
  {
   "cell_type": "code",
   "execution_count": null,
   "metadata": {},
   "outputs": [],
   "source": []
  }
 ],
 "metadata": {
  "kernelspec": {
   "display_name": "Python 3",
   "language": "python",
   "name": "python3"
  },
  "language_info": {
   "codemirror_mode": {
    "name": "ipython",
    "version": 3
   },
   "file_extension": ".py",
   "mimetype": "text/x-python",
   "name": "python",
   "nbconvert_exporter": "python",
   "pygments_lexer": "ipython3",
   "version": "3.7.0"
  }
 },
 "nbformat": 4,
 "nbformat_minor": 2
}
